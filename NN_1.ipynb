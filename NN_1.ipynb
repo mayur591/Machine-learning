{
  "cells": [
    {
      "cell_type": "markdown",
      "metadata": {
        "tags": [],
        "id": "f0VqqheB9gLA"
      },
      "source": [
        "# Lab 1: Keras and MNIST (35 Marks)\n",
        "\n",
        "**This is a modified version of the original notebook by Francois Chollet.**"
      ]
    },
    {
      "cell_type": "markdown",
      "source": [
        "## **Group - 12**\n",
        "*   Mayur Parmar - 0811597\n",
        "*   Arjun Patel - 0812257\n",
        "*   Nimesh Prajapati- 0816765\n",
        "\n",
        "\n",
        "\n",
        "\n"
      ],
      "metadata": {
        "id": "wQ9XZcBc_3Fz"
      }
    },
    {
      "cell_type": "markdown",
      "metadata": {
        "tags": [],
        "id": "xGg5n-GT9gLB"
      },
      "source": [
        "## Objectives\n",
        "\n",
        "By the end of this lab, you should be able to:\n",
        " - explain the role of train, validation, and test sets and understand why the tutorial is  only using train and test\n",
        " - explain the tensor (data) shapes of (28, 28), (60000, 28, 28), (784,), and (60000, 784); what they mean and where they come from\n",
        " - explain one-hot encoding of the label data\n",
        " - sketch (on paper) the architecture/structure of the model being used\n",
        " - calculate by hand how many parameters (weights and biases) the network is using  \n",
        " - understand the output of model.summary() and use to verify the parameter calculation done above\n",
        " - explain why this neural network has 10 output neurons\n",
        " - provide basic explanations for the terms *optimizer*, *loss*, and *metric*\n",
        " - explain what an *epoch* is\n",
        " - explain what is meant by *batch size* and how it is connected to model learning\n",
        " - explain the difference between training a network and testing a network\n",
        " - give a brief explanation of the softmax function and how it is being used"
      ]
    },
    {
      "cell_type": "markdown",
      "metadata": {
        "id": "ucstVChn9gLC"
      },
      "source": [
        "We will now take a look at a first concrete example of a neural network, which makes use of the Python library Keras to learn to classify hand-written digits. Unless you already have experience with Keras or similar libraries, you will not understand everything about this first example right away. Don't worry, that is perfectly fine. We've got to start somewhere.\n",
        "\n",
        "The problem we are trying to solve here is to classify grayscale images of handwritten digits (28 pixels by 28 pixels), into their 10 categories (0 to 9). The dataset we will use is the MNIST dataset, a classic dataset in the machine learning community, which has been around for almost as long as the field itself and has been very intensively studied. It's a set of 60,000 training images, plus 10,000 test images, assembled by the National Institute of Standards and Technology (the NIST in MNIST) in the 1980s. You can think of \"solving\" MNIST as the \"Hello World\" of deep learning -- it's what you do to verify that your algorithms are working as expected. As you become a machine learning practitioner, you will see MNIST come up over and over again, in scientific papers, blog posts, and so on.\n",
        "\n",
        "The MNIST dataset comes pre-loaded in Keras, in the form of a set of four Numpy arrays:"
      ]
    },
    {
      "cell_type": "code",
      "execution_count": null,
      "metadata": {
        "id": "ZSZVkKih9gLD"
      },
      "outputs": [],
      "source": [
        "from tensorflow.keras.datasets import mnist\n",
        "\n",
        "(train_images, train_labels), (test_images, test_labels) = mnist.load_data()"
      ]
    },
    {
      "cell_type": "markdown",
      "metadata": {
        "id": "5lfCgDDl9gLD"
      },
      "source": [
        "`train_images` and `train_labels` form the \"training set\", the data that the model will learn from. The model will then be tested on the\n",
        "\"test set\", `test_images` and `test_labels`. Our images are encoded as Numpy arrays, and the labels are simply an array of digits, ranging\n",
        "from 0 to 9. There is a one-to-one correspondence between the images and the labels.\n",
        "\n",
        "Let's have a look at the training data:"
      ]
    },
    {
      "cell_type": "code",
      "execution_count": null,
      "metadata": {
        "id": "6HU3YL6t9gLE",
        "outputId": "fbc77fb5-6b6e-4baf-ab08-99ac8d38266e",
        "colab": {
          "base_uri": "https://localhost:8080/",
          "height": 447
        }
      },
      "outputs": [
        {
          "output_type": "execute_result",
          "data": {
            "text/plain": [
              "<matplotlib.image.AxesImage at 0x78a7bad2c2b0>"
            ]
          },
          "metadata": {},
          "execution_count": 45
        },
        {
          "output_type": "display_data",
          "data": {
            "text/plain": [
              "<Figure size 640x480 with 1 Axes>"
            ],
            "image/png": "[encoded data removed]"
          },
          "metadata": {}
        }
      ],
      "source": [
        "import matplotlib.pyplot as plt\n",
        "\n",
        "plt.imshow(train_images[0], cmap='gray')"
      ]
    },
    {
      "cell_type": "code",
      "execution_count": null,
      "metadata": {
        "id": "2iajyGuX9gLE",
        "outputId": "f7e99dec-b993-4c9d-b750-a1b31d598193",
        "colab": {
          "base_uri": "https://localhost:8080/"
        }
      },
      "outputs": [
        {
          "output_type": "execute_result",
          "data": {
            "text/plain": [
              "(60000, 28, 28)"
            ]
          },
          "metadata": {},
          "execution_count": 46
        }
      ],
      "source": [
        "train_images.shape"
      ]
    },
    {
      "cell_type": "code",
      "execution_count": null,
      "metadata": {
        "id": "OgU44CCY9gLF",
        "outputId": "dcc2a4ae-03bd-48ed-e3b9-51dbcce4195c",
        "colab": {
          "base_uri": "https://localhost:8080/"
        }
      },
      "outputs": [
        {
          "output_type": "execute_result",
          "data": {
            "text/plain": [
              "array([[  0,   0,   0,   0,   0,   0,   0,   0,   0,   0,   0,   0,   0,\n",
              "          0,   0,   0,   0,   0,   0,   0,   0,   0,   0,   0,   0,   0,\n",
              "          0,   0],\n",
              "       [  0,   0,   0,   0,   0,   0,   0,   0,   0,   0,   0,   0,   0,\n",
              "          0,   0,   0,   0,   0,   0,   0,   0,   0,   0,   0,   0,   0,\n",
              "          0,   0],\n",
              "       [  0,   0,   0,   0,   0,   0,   0,   0,   0,   0,   0,   0,   0,\n",
              "          0,   0,   0,   0,   0,   0,   0,   0,   0,   0,   0,   0,   0,\n",
              "          0,   0],\n",
              "       [  0,   0,   0,   0,   0,   0,   0,   0,   0,   0,   0,   0,   0,\n",
              "          0,   0,   0,   0,   0,   0,   0,   0,   0,   0,   0,   0,   0,\n",
              "          0,   0],\n",
              "       [  0,   0,   0,   0,   0,   0,   0,   0,   0,   0,   0,   0,   0,\n",
              "          0,   0,   0,   0,   0,   0,   0,   0,   0,   0,   0,   0,   0,\n",
              "          0,   0],\n",
              "       [  0,   0,   0,   0,   0,   0,   0,   0,   0,   0,   0,   0,   3,\n",
              "         18,  18,  18, 126, 136, 175,  26, 166, 255, 247, 127,   0,   0,\n",
              "          0,   0],\n",
              "       [  0,   0,   0,   0,   0,   0,   0,   0,  30,  36,  94, 154, 170,\n",
              "        253, 253, 253, 253, 253, 225, 172, 253, 242, 195,  64,   0,   0,\n",
              "          0,   0],\n",
              "       [  0,   0,   0,   0,   0,   0,   0,  49, 238, 253, 253, 253, 253,\n",
              "        253, 253, 253, 253, 251,  93,  82,  82,  56,  39,   0,   0,   0,\n",
              "          0,   0],\n",
              "       [  0,   0,   0,   0,   0,   0,   0,  18, 219, 253, 253, 253, 253,\n",
              "        253, 198, 182, 247, 241,   0,   0,   0,   0,   0,   0,   0,   0,\n",
              "          0,   0],\n",
              "       [  0,   0,   0,   0,   0,   0,   0,   0,  80, 156, 107, 253, 253,\n",
              "        205,  11,   0,  43, 154,   0,   0,   0,   0,   0,   0,   0,   0,\n",
              "          0,   0],\n",
              "       [  0,   0,   0,   0,   0,   0,   0,   0,   0,  14,   1, 154, 253,\n",
              "         90,   0,   0,   0,   0,   0,   0,   0,   0,   0,   0,   0,   0,\n",
              "          0,   0],\n",
              "       [  0,   0,   0,   0,   0,   0,   0,   0,   0,   0,   0, 139, 253,\n",
              "        190,   2,   0,   0,   0,   0,   0,   0,   0,   0,   0,   0,   0,\n",
              "          0,   0],\n",
              "       [  0,   0,   0,   0,   0,   0,   0,   0,   0,   0,   0,  11, 190,\n",
              "        253,  70,   0,   0,   0,   0,   0,   0,   0,   0,   0,   0,   0,\n",
              "          0,   0],\n",
              "       [  0,   0,   0,   0,   0,   0,   0,   0,   0,   0,   0,   0,  35,\n",
              "        241, 225, 160, 108,   1,   0,   0,   0,   0,   0,   0,   0,   0,\n",
              "          0,   0],\n",
              "       [  0,   0,   0,   0,   0,   0,   0,   0,   0,   0,   0,   0,   0,\n",
              "         81, 240, 253, 253, 119,  25,   0,   0,   0,   0,   0,   0,   0,\n",
              "          0,   0],\n",
              "       [  0,   0,   0,   0,   0,   0,   0,   0,   0,   0,   0,   0,   0,\n",
              "          0,  45, 186, 253, 253, 150,  27,   0,   0,   0,   0,   0,   0,\n",
              "          0,   0],\n",
              "       [  0,   0,   0,   0,   0,   0,   0,   0,   0,   0,   0,   0,   0,\n",
              "          0,   0,  16,  93, 252, 253, 187,   0,   0,   0,   0,   0,   0,\n",
              "          0,   0],\n",
              "       [  0,   0,   0,   0,   0,   0,   0,   0,   0,   0,   0,   0,   0,\n",
              "          0,   0,   0,   0, 249, 253, 249,  64,   0,   0,   0,   0,   0,\n",
              "          0,   0],\n",
              "       [  0,   0,   0,   0,   0,   0,   0,   0,   0,   0,   0,   0,   0,\n",
              "          0,  46, 130, 183, 253, 253, 207,   2,   0,   0,   0,   0,   0,\n",
              "          0,   0],\n",
              "       [  0,   0,   0,   0,   0,   0,   0,   0,   0,   0,   0,   0,  39,\n",
              "        148, 229, 253, 253, 253, 250, 182,   0,   0,   0,   0,   0,   0,\n",
              "          0,   0],\n",
              "       [  0,   0,   0,   0,   0,   0,   0,   0,   0,   0,  24, 114, 221,\n",
              "        253, 253, 253, 253, 201,  78,   0,   0,   0,   0,   0,   0,   0,\n",
              "          0,   0],\n",
              "       [  0,   0,   0,   0,   0,   0,   0,   0,  23,  66, 213, 253, 253,\n",
              "        253, 253, 198,  81,   2,   0,   0,   0,   0,   0,   0,   0,   0,\n",
              "          0,   0],\n",
              "       [  0,   0,   0,   0,   0,   0,  18, 171, 219, 253, 253, 253, 253,\n",
              "        195,  80,   9,   0,   0,   0,   0,   0,   0,   0,   0,   0,   0,\n",
              "          0,   0],\n",
              "       [  0,   0,   0,   0,  55, 172, 226, 253, 253, 253, 253, 244, 133,\n",
              "         11,   0,   0,   0,   0,   0,   0,   0,   0,   0,   0,   0,   0,\n",
              "          0,   0],\n",
              "       [  0,   0,   0,   0, 136, 253, 253, 253, 212, 135, 132,  16,   0,\n",
              "          0,   0,   0,   0,   0,   0,   0,   0,   0,   0,   0,   0,   0,\n",
              "          0,   0],\n",
              "       [  0,   0,   0,   0,   0,   0,   0,   0,   0,   0,   0,   0,   0,\n",
              "          0,   0,   0,   0,   0,   0,   0,   0,   0,   0,   0,   0,   0,\n",
              "          0,   0],\n",
              "       [  0,   0,   0,   0,   0,   0,   0,   0,   0,   0,   0,   0,   0,\n",
              "          0,   0,   0,   0,   0,   0,   0,   0,   0,   0,   0,   0,   0,\n",
              "          0,   0],\n",
              "       [  0,   0,   0,   0,   0,   0,   0,   0,   0,   0,   0,   0,   0,\n",
              "          0,   0,   0,   0,   0,   0,   0,   0,   0,   0,   0,   0,   0,\n",
              "          0,   0]], dtype=uint8)"
            ]
          },
          "metadata": {},
          "execution_count": 47
        }
      ],
      "source": [
        "train_images[0] # the first image"
      ]
    },
    {
      "cell_type": "code",
      "execution_count": null,
      "metadata": {
        "id": "lyZz9nSj9gLF",
        "outputId": "6b05647e-11c4-4b68-e68d-45808a7340c4",
        "colab": {
          "base_uri": "https://localhost:8080/"
        }
      },
      "outputs": [
        {
          "output_type": "execute_result",
          "data": {
            "text/plain": [
              "(28, 28)"
            ]
          },
          "metadata": {},
          "execution_count": 48
        }
      ],
      "source": [
        "train_images[0].shape  # the shape of the first image"
      ]
    },
    {
      "cell_type": "code",
      "execution_count": null,
      "metadata": {
        "id": "Xhnk_quh9gLG",
        "outputId": "476cef38-5be7-492c-dd26-aa50aa7c7407",
        "colab": {
          "base_uri": "https://localhost:8080/"
        }
      },
      "outputs": [
        {
          "output_type": "execute_result",
          "data": {
            "text/plain": [
              "60000"
            ]
          },
          "metadata": {},
          "execution_count": 49
        }
      ],
      "source": [
        "len(train_labels)"
      ]
    },
    {
      "cell_type": "code",
      "execution_count": null,
      "metadata": {
        "id": "_6xoZQFV9gLG",
        "outputId": "c8ddad73-a5e1-4717-9ee9-e9e28897f06a",
        "colab": {
          "base_uri": "https://localhost:8080/"
        }
      },
      "outputs": [
        {
          "output_type": "execute_result",
          "data": {
            "text/plain": [
              "array([5, 0, 4, 1, 9, 2], dtype=uint8)"
            ]
          },
          "metadata": {},
          "execution_count": 50
        }
      ],
      "source": [
        "train_labels[:6] # first 5 labels"
      ]
    },
    {
      "cell_type": "markdown",
      "metadata": {
        "id": "MBwEurLo9gLG"
      },
      "source": [
        "Let's have a look at the test data:"
      ]
    },
    {
      "cell_type": "code",
      "execution_count": null,
      "metadata": {
        "id": "oCDkklDh9gLG",
        "outputId": "24c50b16-09a9-414a-af53-954427fa92f5",
        "colab": {
          "base_uri": "https://localhost:8080/"
        }
      },
      "outputs": [
        {
          "output_type": "execute_result",
          "data": {
            "text/plain": [
              "(10000, 28, 28)"
            ]
          },
          "metadata": {},
          "execution_count": 51
        }
      ],
      "source": [
        "test_images.shape"
      ]
    },
    {
      "cell_type": "code",
      "execution_count": null,
      "metadata": {
        "id": "SUDcU5Pm9gLH",
        "outputId": "9367c9e5-94e3-4104-9b48-c6193f9dd665",
        "colab": {
          "base_uri": "https://localhost:8080/"
        }
      },
      "outputs": [
        {
          "output_type": "execute_result",
          "data": {
            "text/plain": [
              "10000"
            ]
          },
          "metadata": {},
          "execution_count": 52
        }
      ],
      "source": [
        "len(test_labels)"
      ]
    },
    {
      "cell_type": "code",
      "execution_count": null,
      "metadata": {
        "id": "qPONQs6r9gLH",
        "outputId": "1d3869a0-2299-486a-ef34-79126759af77",
        "colab": {
          "base_uri": "https://localhost:8080/"
        }
      },
      "outputs": [
        {
          "output_type": "execute_result",
          "data": {
            "text/plain": [
              "array([7, 2, 1, ..., 4, 5, 6], dtype=uint8)"
            ]
          },
          "metadata": {},
          "execution_count": 53
        }
      ],
      "source": [
        "test_labels"
      ]
    },
    {
      "cell_type": "markdown",
      "metadata": {
        "id": "romZJrKB9gLH"
      },
      "source": [
        "\n",
        "Before training, we will preprocess our data by reshaping it into the shape that the network expects, and scaling it so that all values are in\n",
        "the `[0, 1]` interval. Previously, our training images for instance were stored in an array of shape `(60000, 28, 28)` of type `uint8` with\n",
        "values in the `[0, 255]` interval. We transform it into a `float32` array of shape `(60000, 28 * 28)` with values between 0 and 1."
      ]
    },
    {
      "cell_type": "code",
      "execution_count": null,
      "metadata": {
        "id": "oSsUxCVJ9gLH"
      },
      "outputs": [],
      "source": [
        "train_images = train_images.astype('float32') / 255\n",
        "train_images = train_images.reshape((60000, 28 * 28))\n",
        "\n",
        "test_images = test_images.astype('float32') / 255\n",
        "test_images = test_images.reshape((10000, 28 * 28))"
      ]
    },
    {
      "cell_type": "markdown",
      "metadata": {
        "id": "_mLxIiNS9gLH"
      },
      "source": [
        "### Reshaping an image for the network\n",
        "\n",
        "The picture below shows the steps involved in converting a 10x10 pixel image into a 1 dimensional array that can be fed into a fully-connected neural network (assuming we do not scale the pixel values).\n",
        "\n",
        "<img src=\"Lab 1 - Pictures-2.jpg\" width=600 align=\"center\">\n",
        "\n",
        "And the picture below should help you visualize what things look like when we consider more than a single sample in our data:\n",
        "\n",
        "<img src=\"Lab 1 - Pictures-3.jpg\" width=600 align=\"center\">"
      ]
    },
    {
      "cell_type": "markdown",
      "metadata": {
        "id": "5GmCNX5N9gLH"
      },
      "source": [
        "We also need to categorically encode the labels:"
      ]
    },
    {
      "cell_type": "code",
      "execution_count": null,
      "metadata": {
        "id": "vMH8rHMz9gLH"
      },
      "outputs": [],
      "source": [
        "from tensorflow.keras.utils import to_categorical\n",
        "\n",
        "train_labels = to_categorical(train_labels)\n",
        "test_labels = to_categorical(test_labels)"
      ]
    },
    {
      "cell_type": "code",
      "execution_count": null,
      "metadata": {
        "id": "pUDeTSmk9gLH",
        "outputId": "4d11add0-6bad-42b0-dfa7-ac73137864c0",
        "colab": {
          "base_uri": "https://localhost:8080/"
        }
      },
      "outputs": [
        {
          "output_type": "execute_result",
          "data": {
            "text/plain": [
              "array([[0., 0., 0., 0., 0., 1., 0., 0., 0., 0.],\n",
              "       [1., 0., 0., 0., 0., 0., 0., 0., 0., 0.],\n",
              "       [0., 0., 0., 0., 1., 0., 0., 0., 0., 0.],\n",
              "       [0., 1., 0., 0., 0., 0., 0., 0., 0., 0.],\n",
              "       [0., 0., 0., 0., 0., 0., 0., 0., 0., 1.]], dtype=float32)"
            ]
          },
          "metadata": {},
          "execution_count": 56
        }
      ],
      "source": [
        "train_labels[:5]"
      ]
    },
    {
      "cell_type": "markdown",
      "metadata": {
        "id": "uQRQ4slO9gLI"
      },
      "source": [
        "<img src=\"Lab 1 - Pictures-5.jpg\" width=600 align=\"center\">"
      ]
    },
    {
      "cell_type": "markdown",
      "metadata": {
        "id": "Uwnpsauo9gLI"
      },
      "source": [
        "Our workflow will be as follow: first we will present our neural network with the training data: `train_images` and `train_labels`. The\n",
        "network will then learn to associate images and labels. Finally, we will ask the network to produce predictions for `test_images`, and we\n",
        "will verify if these predictions match the labels from `test_labels`.\n",
        "\n",
        "## Build the network\n",
        "\n",
        "Let's build our network!"
      ]
    },
    {
      "cell_type": "code",
      "execution_count": null,
      "metadata": {
        "id": "YimnjWKP9gLI"
      },
      "outputs": [],
      "source": [
        "from tensorflow.keras.models import Sequential\n",
        "from tensorflow.keras.layers import Dense\n",
        "\n",
        "network = Sequential()\n",
        "network.add(Dense(512, activation='relu', input_shape=(28 * 28,)))\n",
        "network.add(Dense(10, activation='softmax'))"
      ]
    },
    {
      "cell_type": "markdown",
      "metadata": {
        "id": "240Kd4Mi9gLI"
      },
      "source": [
        "The core building block of neural networks is the \"layer\", a data-processing module which you can conceive as a \"filter\" for data. Some data comes in, and comes out in a more useful form. Precisely, layers extract _representations_ out of the data fed into them -- hopefully representations that are more meaningful for the problem at hand. Most of deep learning really consists of chaining together simple layers which will implement a form of progressive \"data distillation\". A deep learning model is like a sieve for data processing, made of a\n",
        "succession of increasingly refined data filters -- the \"layers\".\n",
        "\n",
        "Here our network consists of a sequence of two `Dense` layers, which are densely-connected (also called \"fully-connected\") neural layers. The second (and last) layer is a 10-way \"softmax\" layer, which means it will return an array of 10 probability scores (summing to 1). Each score will be the probability that the current digit image belongs to one of our 10 digit classes. See this [blog post](https://victorzhou.com/blog/softmax/) for more details on the softmax function. The following picture may help you see what is happening:\n",
        "\n",
        "<img src=\"Lab 1 - Pictures-4.jpg\" width=600 align=\"center\">"
      ]
    },
    {
      "cell_type": "markdown",
      "metadata": {
        "id": "4G78FKGl9gLI"
      },
      "source": [
        "## Network architecture and parameters\n",
        "It is often helpful to review the architecture of the network and see how many parameters will need to be learned through the training process. To do this, Keras provides the `.summary()` function:"
      ]
    },
    {
      "cell_type": "code",
      "execution_count": null,
      "metadata": {
        "id": "nfouUE-J9gLI",
        "outputId": "2e280574-d603-4d55-f9de-8b61ea65867b",
        "colab": {
          "base_uri": "https://localhost:8080/"
        }
      },
      "outputs": [
        {
          "output_type": "stream",
          "name": "stdout",
          "text": [
            "Model: \"sequential_28\"\n",
            "_________________________________________________________________\n",
            " Layer (type)                Output Shape              Param #   \n",
            "=================================================================\n",
            " dense_56 (Dense)            (None, 512)               401920    \n",
            "                                                                 \n",
            " dense_57 (Dense)            (None, 10)                5130      \n",
            "                                                                 \n",
            "=================================================================\n",
            "Total params: 407050 (1.55 MB)\n",
            "Trainable params: 407050 (1.55 MB)\n",
            "Non-trainable params: 0 (0.00 Byte)\n",
            "_________________________________________________________________\n"
          ]
        }
      ],
      "source": [
        "network.summary()"
      ]
    },
    {
      "cell_type": "markdown",
      "metadata": {
        "id": "7lh3w8AR9gLI"
      },
      "source": [
        "## Compile the network\n",
        "To make our network ready for training, we need to pick three more things, as part of \"compilation\" step:\n",
        "\n",
        "* A loss function: this is how the network will be able to measure how good a job it is doing on its training data, and thus how it will be able to steer itself in the right direction.\n",
        "* An optimizer: this is the mechanism through which the network will update its parameters (weights and biases) based on the data it sees and its loss function. This is like the *gradient descent* recipe for updating the network's parameters.\n",
        "* Metrics: what to monitor during training and testing. Here we will only care about accuracy (the fraction of the images that were correctly classified)."
      ]
    },
    {
      "cell_type": "code",
      "execution_count": null,
      "metadata": {
        "id": "cj07MyKT9gLI"
      },
      "outputs": [],
      "source": [
        "network.compile(optimizer='rmsprop',\n",
        "                loss='categorical_crossentropy',\n",
        "                metrics=['accuracy'])"
      ]
    },
    {
      "cell_type": "markdown",
      "metadata": {
        "id": "mPOCSa319gLI"
      },
      "source": [
        "We are now ready to train our network, which in Keras is done via a call to the `fit` method of the network:\n",
        "we \"fit\" the model to its training data."
      ]
    },
    {
      "cell_type": "markdown",
      "metadata": {
        "id": "18vyNpl59gLI"
      },
      "source": [
        "## Train the network"
      ]
    },
    {
      "cell_type": "code",
      "execution_count": null,
      "metadata": {
        "id": "DnEyaaZV9gLI",
        "outputId": "edae4a05-6367-49bc-d2a9-d0dfd3074a0a",
        "colab": {
          "base_uri": "https://localhost:8080/"
        }
      },
      "outputs": [
        {
          "output_type": "stream",
          "name": "stdout",
          "text": [
            "Epoch 1/5\n",
            "469/469 [==============================] - 5s 9ms/step - loss: 0.2679 - accuracy: 0.9224\n",
            "Epoch 2/5\n",
            "469/469 [==============================] - 5s 11ms/step - loss: 0.1088 - accuracy: 0.9685\n",
            "Epoch 3/5\n",
            "469/469 [==============================] - 5s 10ms/step - loss: 0.0721 - accuracy: 0.9783\n",
            "Epoch 4/5\n",
            "469/469 [==============================] - 5s 12ms/step - loss: 0.0523 - accuracy: 0.9848\n",
            "Epoch 5/5\n",
            "469/469 [==============================] - 5s 11ms/step - loss: 0.0391 - accuracy: 0.9886\n"
          ]
        }
      ],
      "source": [
        "history = network.fit(train_images, train_labels, epochs=5, batch_size=128, verbose=1)"
      ]
    },
    {
      "cell_type": "markdown",
      "metadata": {
        "id": "yI4CVb0D9gLI"
      },
      "source": [
        "Two quantities are being displayed during training: the \"loss\" of the network over the training data, and the accuracy of the network over\n",
        "the training data.\n",
        "\n",
        "We quickly reach an accuracy of around 0.98 (i.e. 98%) on the training data."
      ]
    },
    {
      "cell_type": "markdown",
      "metadata": {
        "id": "DMkz4Ak29gLI"
      },
      "source": [
        "## Check test accuracy\n",
        "\n",
        "Now let's check that our model performs well on the test set too:"
      ]
    },
    {
      "cell_type": "code",
      "execution_count": null,
      "metadata": {
        "id": "idThFmD69gLJ",
        "outputId": "7b26a83e-dbd5-4e1a-887c-2795b3f7a9b0",
        "colab": {
          "base_uri": "https://localhost:8080/"
        }
      },
      "outputs": [
        {
          "output_type": "stream",
          "name": "stdout",
          "text": [
            "313/313 [==============================] - 1s 3ms/step - loss: 0.0628 - accuracy: 0.9797\n"
          ]
        }
      ],
      "source": [
        "test_loss, test_acc = network.evaluate(test_images, test_labels)"
      ]
    },
    {
      "cell_type": "code",
      "execution_count": null,
      "metadata": {
        "id": "Ln7bCBxv9gLJ",
        "outputId": "421cca7d-26b0-46d2-f90c-1181a388bade",
        "colab": {
          "base_uri": "https://localhost:8080/"
        }
      },
      "outputs": [
        {
          "output_type": "stream",
          "name": "stdout",
          "text": [
            "test_acc: 0.9797000288963318\n"
          ]
        }
      ],
      "source": [
        "print('test_acc:', test_acc)"
      ]
    },
    {
      "cell_type": "markdown",
      "metadata": {
        "id": "fSohQhQs9gLJ"
      },
      "source": [
        "\n",
        "Our test set accuracy turns out to be around 98%, which is lower than the training set accuracy.\n",
        "\n",
        "This concludes our very first example -- you just saw how we could build and train a neural network to classify handwritten digits, in less than 20 lines of Python code."
      ]
    },
    {
      "cell_type": "markdown",
      "metadata": {
        "id": "5uZZu6Yo9gLJ"
      },
      "source": [
        "**epoch**\n",
        "  - one epoch is reached when all training examples have been sent through the network\n",
        "  \n",
        "**batch size**\n",
        "  - the training data is not sent through the network one sample at time but in batches; this is another hyperparamter to be set. The weights and biases are updated after each batch is processed by the network. In this example the batch size was set to 128\n"
      ]
    },
    {
      "cell_type": "markdown",
      "metadata": {
        "id": "-essVG--9gLK"
      },
      "source": [
        "## Your turn\n",
        "\n",
        "Rerunning the network means executing the following steps:\n",
        "- Build the network\n",
        "- Network architecure and parameters\n",
        "- Compile the network\n",
        "- Train the network\n",
        "- Check test accuracy\n",
        "\n",
        "**Each exercise will thus have all the necessary code to build, compile, fit, and test.**\n",
        "\n",
        "## Starting Code\n",
        "\n",
        "Begin with the following code for Exercises 1 to 5, that is, the code below is what you are being asked to modify in the first five exercises:\n",
        "\n",
        "```\n",
        "network = Sequential()\n",
        "network.add(Dense(512, activation='relu', input_shape=(28 * 28,)))\n",
        "network.add(Dense(10, activation='softmax'))\n",
        "\n",
        "network.summary()\n",
        "\n",
        "network.compile(optimizer='rmsprop',\n",
        "                loss='categorical_crossentropy',\n",
        "                metrics=['accuracy'])\n",
        "                \n",
        "network.fit(train_images, train_labels, epochs=5, batch_size=128, verbose=1)\n",
        "\n",
        "test_loss, test_acc = network.evaluate(test_images, test_labels)\n",
        "print('test_acc:', test_acc)\n",
        "```\n",
        "\n",
        "Be sure to rename the `network` for each Exercise."
      ]
    },
    {
      "cell_type": "markdown",
      "metadata": {
        "id": "GbrPEYjf9gLK"
      },
      "source": [
        "## Your turn\n",
        "\n",
        "Rerunning the network means executing the following steps:\n",
        "- Build the network\n",
        "- Compile the network\n",
        "- Fit the data\n",
        "- Check test accuracy\n",
        "\n",
        "Before you begin, make a copy of the `network` in the *Build the network* section so you can remember the structure and parameters for the original network.\n",
        "\n",
        "### **Exercise 1-6 (15 Marks) (2.5 Marks each)**\n",
        "\n",
        "### Exercise 1\n",
        "\n",
        "- change the activation in the hidden layer to 'sigmoid'\n",
        "- rerun the network\n",
        "- what is the new value for the training accuracy?\n",
        "- what is the new value for the test accuracy?"
      ]
    },
    {
      "cell_type": "code",
      "execution_count": null,
      "metadata": {
        "id": "0DFqWTi69gLK",
        "outputId": "c0d83b88-1ccc-43f3-b7b7-42e26117877a",
        "colab": {
          "base_uri": "https://localhost:8080/"
        }
      },
      "outputs": [
        {
          "output_type": "stream",
          "name": "stdout",
          "text": [
            "Model: \"sequential_29\"\n",
            "_________________________________________________________________\n",
            " Layer (type)                Output Shape              Param #   \n",
            "=================================================================\n",
            " dense_58 (Dense)            (None, 512)               401920    \n",
            "                                                                 \n",
            " dense_59 (Dense)            (None, 10)                5130      \n",
            "                                                                 \n",
            "=================================================================\n",
            "Total params: 407050 (1.55 MB)\n",
            "Trainable params: 407050 (1.55 MB)\n",
            "Non-trainable params: 0 (0.00 Byte)\n",
            "_________________________________________________________________\n",
            "Epoch 1/5\n",
            "469/469 [==============================] - 6s 12ms/step - loss: 0.4618 - accuracy: 0.8759\n",
            "Epoch 2/5\n",
            "469/469 [==============================] - 4s 9ms/step - loss: 0.2680 - accuracy: 0.9219\n",
            "Epoch 3/5\n",
            "469/469 [==============================] - 5s 10ms/step - loss: 0.2163 - accuracy: 0.9371\n",
            "Epoch 4/5\n",
            "469/469 [==============================] - 5s 11ms/step - loss: 0.1772 - accuracy: 0.9481\n",
            "Epoch 5/5\n",
            "469/469 [==============================] - 4s 9ms/step - loss: 0.1477 - accuracy: 0.9570\n",
            "1875/1875 [==============================] - 6s 3ms/step - loss: 0.1358 - accuracy: 0.9607\n",
            "Exercise 1 Train Accuracy (Sigmoid): 0.9606833457946777\n",
            "313/313 [==============================] - 1s 3ms/step - loss: 0.1439 - accuracy: 0.9577\n",
            "Exercise 1 Test Accuracy (Sigmoid): 0.9577000141143799\n"
          ]
        }
      ],
      "source": [
        "from keras.models import Sequential\n",
        "from keras.layers import Dense\n",
        "import numpy as np\n",
        "\n",
        "# Exercise 1: Change activation in the hidden layer to 'sigmoid'\n",
        "exercise1_network = Sequential()\n",
        "exercise1_network.add(Dense(512, activation='sigmoid', input_shape=(28 * 28,)))\n",
        "exercise1_network.add(Dense(10, activation='softmax'))\n",
        "\n",
        "# Display the summary of the network for Exercise 1\n",
        "exercise1_network.summary()\n",
        "\n",
        "# Compile the network for Exercise 1\n",
        "exercise1_network.compile(optimizer='rmsprop',\n",
        "                          loss='categorical_crossentropy',\n",
        "                          metrics=['accuracy'])\n",
        "\n",
        "# Fit the data to the network for Exercise 1 and Evaluate new training accuracy\n",
        "exercise1_network.fit(train_images, train_labels, epochs=5, batch_size=128, verbose=1)\n",
        "train_loss, exercise1_train_acc = exercise1_network.evaluate(train_images, train_labels)\n",
        "print('Exercise 1 Train Accuracy (Sigmoid):', exercise1_train_acc)\n",
        "\n",
        "# Evaluate the network for Exercise 1 on the test data\n",
        "test_loss, exercise1_test_acc = exercise1_network.evaluate(test_images, test_labels)\n",
        "print('Exercise 1 Test Accuracy (Sigmoid):', exercise1_test_acc)"
      ]
    },
    {
      "cell_type": "markdown",
      "source": [
        "# what is the new value for the training accuracy?\n",
        "=> 0.9630\n",
        "\n",
        "# what is the new value for the test accuracy?\n",
        "=> 0.9593"
      ],
      "metadata": {
        "id": "_RoxVD3aVzzO"
      }
    },
    {
      "cell_type": "markdown",
      "metadata": {
        "id": "8A0mC-lw9gLK"
      },
      "source": [
        "### Exercise 2\n",
        "\n",
        "- change the activation in the hidden layer back to 'relu'\n",
        "- change the batch size to 32\n",
        "- rerun the network\n",
        "- what is the new value for the training accuracy?\n",
        "- what is the new value for the test accuracy?\n",
        "- was the speed effected?"
      ]
    },
    {
      "cell_type": "code",
      "execution_count": null,
      "metadata": {
        "id": "lp6wzl769gLK",
        "outputId": "1ce157b2-6fcc-4a62-d0af-b8ecb6c20232",
        "colab": {
          "base_uri": "https://localhost:8080/"
        }
      },
      "outputs": [
        {
          "output_type": "stream",
          "name": "stdout",
          "text": [
            "Model: \"sequential_30\"\n",
            "_________________________________________________________________\n",
            " Layer (type)                Output Shape              Param #   \n",
            "=================================================================\n",
            " dense_60 (Dense)            (None, 512)               401920    \n",
            "                                                                 \n",
            " dense_61 (Dense)            (None, 10)                5130      \n",
            "                                                                 \n",
            "=================================================================\n",
            "Total params: 407050 (1.55 MB)\n",
            "Trainable params: 407050 (1.55 MB)\n",
            "Non-trainable params: 0 (0.00 Byte)\n",
            "_________________________________________________________________\n",
            "Epoch 1/5\n",
            "1875/1875 [==============================] - 12s 6ms/step - loss: 0.2048 - accuracy: 0.9399\n",
            "Epoch 2/5\n",
            "1875/1875 [==============================] - 12s 6ms/step - loss: 0.0854 - accuracy: 0.9740\n",
            "Epoch 3/5\n",
            "1875/1875 [==============================] - 12s 6ms/step - loss: 0.0602 - accuracy: 0.9819\n",
            "Epoch 4/5\n",
            "1875/1875 [==============================] - 12s 6ms/step - loss: 0.0457 - accuracy: 0.9866\n",
            "Epoch 5/5\n",
            "1875/1875 [==============================] - 12s 6ms/step - loss: 0.0352 - accuracy: 0.9893\n",
            "1875/1875 [==============================] - 5s 3ms/step - loss: 0.0282 - accuracy: 0.9913\n",
            "Exercise 2 Train Accuracy (relu): 0.9912999868392944\n",
            "313/313 [==============================] - 1s 3ms/step - loss: 0.0833 - accuracy: 0.9778\n",
            "Exercise 2 Test Accuracy (relu): 0.9778000116348267\n"
          ]
        }
      ],
      "source": [
        "from keras.models import Sequential\n",
        "from keras.layers import Dense\n",
        "import numpy as np\n",
        "\n",
        "# Exercise 2: Change activation in the hidden layer to 'relu'\n",
        "exercise2_network = Sequential()\n",
        "exercise2_network.add(Dense(512, activation='relu', input_shape=(28 * 28,)))\n",
        "exercise2_network.add(Dense(10, activation='softmax'))\n",
        "\n",
        "# Display the summary of the network for Exercise 2\n",
        "exercise2_network.summary()\n",
        "\n",
        "# Compile the network for Exercise 2\n",
        "exercise2_network.compile(optimizer='rmsprop',\n",
        "                          loss='categorical_crossentropy',\n",
        "                          metrics=['accuracy'])\n",
        "\n",
        "# Fit the data to the network for Exercise 2 and Evaluate new training accuracy\n",
        "exercise2_network.fit(train_images, train_labels, epochs=5, batch_size=32, verbose=1)\n",
        "train_loss, exercise2_train_acc = exercise2_network.evaluate(train_images, train_labels)\n",
        "print('Exercise 2 Train Accuracy (relu):', exercise2_train_acc)\n",
        "\n",
        "# Evaluate the network for Exercise 2 on the test data\n",
        "test_loss, exercise2_test_acc = exercise2_network.evaluate(test_images, test_labels)\n",
        "print('Exercise 2 Test Accuracy (relu):', exercise2_test_acc)"
      ]
    },
    {
      "cell_type": "markdown",
      "source": [
        "# what is the new value for the training accuracy?\n",
        "=> 0.9927\n",
        "\n",
        "# what is the new value for the test accuracy?\n",
        "=> 0.9800\n",
        "\n",
        "# was the speed affected?\n",
        "=> After changing the batchsize 128 to **32** and activation function sigmoid to **relu**, it's become slower in comparison with previous model."
      ],
      "metadata": {
        "id": "BQcWdRKNaPJS"
      }
    },
    {
      "cell_type": "markdown",
      "metadata": {
        "id": "5IIBsGT89gLK"
      },
      "source": [
        "### Exercise 3\n",
        "\n",
        "- change the number of epochs to 10\n",
        "- rerun the network\n",
        "- what is the new value for the training accuracy?\n",
        "- what is the new value for the test accuracy?"
      ]
    },
    {
      "cell_type": "code",
      "execution_count": null,
      "metadata": {
        "id": "JuRkQWaS9gLK",
        "outputId": "40e87d9a-bb1a-49d1-e6f8-dea7762b24c1",
        "colab": {
          "base_uri": "https://localhost:8080/"
        }
      },
      "outputs": [
        {
          "output_type": "stream",
          "name": "stdout",
          "text": [
            "Model: \"sequential_31\"\n",
            "_________________________________________________________________\n",
            " Layer (type)                Output Shape              Param #   \n",
            "=================================================================\n",
            " dense_62 (Dense)            (None, 512)               401920    \n",
            "                                                                 \n",
            " dense_63 (Dense)            (None, 10)                5130      \n",
            "                                                                 \n",
            "=================================================================\n",
            "Total params: 407050 (1.55 MB)\n",
            "Trainable params: 407050 (1.55 MB)\n",
            "Non-trainable params: 0 (0.00 Byte)\n",
            "_________________________________________________________________\n",
            "Epoch 1/10\n",
            "469/469 [==============================] - 6s 12ms/step - loss: 0.2646 - accuracy: 0.9233\n",
            "Epoch 2/10\n",
            "469/469 [==============================] - 4s 9ms/step - loss: 0.1064 - accuracy: 0.9678\n",
            "Epoch 3/10\n",
            "469/469 [==============================] - 4s 9ms/step - loss: 0.0698 - accuracy: 0.9791\n",
            "Epoch 4/10\n",
            "469/469 [==============================] - 5s 11ms/step - loss: 0.0506 - accuracy: 0.9845\n",
            "Epoch 5/10\n",
            "469/469 [==============================] - 4s 9ms/step - loss: 0.0382 - accuracy: 0.9885\n",
            "Epoch 6/10\n",
            "469/469 [==============================] - 4s 9ms/step - loss: 0.0292 - accuracy: 0.9916\n",
            "Epoch 7/10\n",
            "469/469 [==============================] - 5s 12ms/step - loss: 0.0226 - accuracy: 0.9931\n",
            "Epoch 8/10\n",
            "469/469 [==============================] - 4s 9ms/step - loss: 0.0173 - accuracy: 0.9954\n",
            "Epoch 9/10\n",
            "469/469 [==============================] - 4s 9ms/step - loss: 0.0127 - accuracy: 0.9964\n",
            "Epoch 10/10\n",
            "469/469 [==============================] - 5s 11ms/step - loss: 0.0093 - accuracy: 0.9979\n",
            "1875/1875 [==============================] - 7s 4ms/step - loss: 0.0058 - accuracy: 0.9989\n",
            "Exercise 3 Train Accuracy (relu): 0.9989166855812073\n",
            "313/313 [==============================] - 3s 8ms/step - loss: 0.0583 - accuracy: 0.9831\n",
            "Exercise 3 Test Accuracy (relu): 0.9830999970436096\n"
          ]
        }
      ],
      "source": [
        "from keras.models import Sequential\n",
        "from keras.layers import Dense\n",
        "import numpy as np\n",
        "\n",
        "# Exercise 3: Changing the number of epochs to 10\n",
        "exercise3_network = Sequential()\n",
        "exercise3_network.add(Dense(512, activation='relu', input_shape=(28 * 28,)))\n",
        "exercise3_network.add(Dense(10, activation='softmax'))\n",
        "\n",
        "# Display the summary of the network for Exercise 3\n",
        "exercise3_network.summary()\n",
        "\n",
        "# Compile the network for Exercise 3\n",
        "exercise3_network.compile(optimizer='rmsprop',\n",
        "                          loss='categorical_crossentropy',\n",
        "                          metrics=['accuracy'])\n",
        "\n",
        "# Fit the data to the network for Exercise 3 and Evaluate new training accuracy\n",
        "exercise3_network.fit(train_images, train_labels, epochs=10, batch_size=128, verbose=1)\n",
        "train_loss, exercise3_train_acc = exercise3_network.evaluate(train_images, train_labels)\n",
        "print('Exercise 3 Train Accuracy (relu):', exercise3_train_acc)\n",
        "\n",
        "# Evaluate the network for Exercise 3 on the test data\n",
        "test_loss, exercise3_test_acc = exercise3_network.evaluate(test_images, test_labels)\n",
        "print('Exercise 3 Test Accuracy (relu):', exercise3_test_acc)"
      ]
    },
    {
      "cell_type": "markdown",
      "source": [
        "# what is the new value for the training accuracy?\n",
        "=> 0.9971\n",
        "\n",
        "# what is the new value for the test accuracy?\n",
        "=> 0.9779"
      ],
      "metadata": {
        "id": "U9G1fOxldFQC"
      }
    },
    {
      "cell_type": "markdown",
      "metadata": {
        "id": "3jaJqS4A9gLK"
      },
      "source": [
        "### Exercise 4\n",
        "\n",
        "- change the number of neurons in the hidden layer to 128\n",
        "- rerun the network\n",
        "- what is the new value for the training accuracy?\n",
        "- what is the new value for the test accuracy?"
      ]
    },
    {
      "cell_type": "code",
      "execution_count": null,
      "metadata": {
        "id": "8n7VZLXO9gLK",
        "outputId": "b0577bd6-57b2-4158-c99a-d9c4076c0050",
        "colab": {
          "base_uri": "https://localhost:8080/"
        }
      },
      "outputs": [
        {
          "output_type": "stream",
          "name": "stdout",
          "text": [
            "Model: \"sequential_32\"\n",
            "_________________________________________________________________\n",
            " Layer (type)                Output Shape              Param #   \n",
            "=================================================================\n",
            " dense_64 (Dense)            (None, 128)               100480    \n",
            "                                                                 \n",
            " dense_65 (Dense)            (None, 10)                1290      \n",
            "                                                                 \n",
            "=================================================================\n",
            "Total params: 101770 (397.54 KB)\n",
            "Trainable params: 101770 (397.54 KB)\n",
            "Non-trainable params: 0 (0.00 Byte)\n",
            "_________________________________________________________________\n",
            "Epoch 1/5\n",
            "469/469 [==============================] - 2s 4ms/step - loss: 0.3258 - accuracy: 0.9102\n",
            "Epoch 2/5\n",
            "469/469 [==============================] - 2s 4ms/step - loss: 0.1550 - accuracy: 0.9549\n",
            "Epoch 3/5\n",
            "469/469 [==============================] - 2s 5ms/step - loss: 0.1119 - accuracy: 0.9674\n",
            "Epoch 4/5\n",
            "469/469 [==============================] - 2s 4ms/step - loss: 0.0865 - accuracy: 0.9743\n",
            "Epoch 5/5\n",
            "469/469 [==============================] - 2s 4ms/step - loss: 0.0705 - accuracy: 0.9795\n",
            "1875/1875 [==============================] - 4s 2ms/step - loss: 0.0625 - accuracy: 0.9811\n",
            "Exercise 4 Train Accuracy (relu): 0.9811000227928162\n",
            "313/313 [==============================] - 1s 2ms/step - loss: 0.0876 - accuracy: 0.9730\n",
            "Exercise 4 Test Accuracy (relu): 0.9729999899864197\n"
          ]
        }
      ],
      "source": [
        "from keras.models import Sequential\n",
        "from keras.layers import Dense\n",
        "import numpy as np\n",
        "\n",
        "# Exercise 4: Changing the number of neurons in the hidden layer to 128\n",
        "exercise4_network = Sequential()\n",
        "exercise4_network.add(Dense(128, activation='relu', input_shape=(28 * 28,)))\n",
        "exercise4_network.add(Dense(10, activation='softmax'))\n",
        "\n",
        "# Display the summary of the network for Exercise 4\n",
        "exercise4_network.summary()\n",
        "\n",
        "# Compile the network for Exercise 4\n",
        "exercise4_network.compile(optimizer='rmsprop',\n",
        "                          loss='categorical_crossentropy',\n",
        "                          metrics=['accuracy'])\n",
        "\n",
        "# Fit the data to the network for Exercise 4 and Evaluate new training accuracy\n",
        "exercise4_network.fit(train_images, train_labels, epochs=5, batch_size=128, verbose=1)\n",
        "train_loss, exercise4_train_acc = exercise4_network.evaluate(train_images, train_labels)\n",
        "print('Exercise 4 Train Accuracy (relu):', exercise4_train_acc)\n",
        "\n",
        "# Evaluate the network for Exercise 4 on the test data\n",
        "test_loss, exercise4_test_acc = exercise4_network.evaluate(test_images, test_labels)\n",
        "print('Exercise 4 Test Accuracy (relu):', exercise4_test_acc)"
      ]
    },
    {
      "cell_type": "markdown",
      "source": [
        "# what is the new value for the training accuracy?\n",
        "=> 0.9842\n",
        "\n",
        "# what is the new value for the test accuracy?\n",
        "=> 0.9749"
      ],
      "metadata": {
        "id": "iFUEpTr5eb_I"
      }
    },
    {
      "cell_type": "markdown",
      "metadata": {
        "id": "apa9fRnM9gLL"
      },
      "source": [
        "### Exercise 5\n",
        "\n",
        "- to the original network, add a second hidden layer of 128 neurons (note that `input_shape` does note need to be set for a second *Dense* layer)\n",
        "- rerun the network\n",
        "- what is the new value for the training accuracy?\n",
        "- what is the new value for the test accuracy?"
      ]
    },
    {
      "cell_type": "code",
      "execution_count": null,
      "metadata": {
        "id": "sEKK4e6I9gLL",
        "outputId": "991cd9c8-3def-4fc5-9165-e94da58792ff",
        "colab": {
          "base_uri": "https://localhost:8080/"
        }
      },
      "outputs": [
        {
          "output_type": "stream",
          "name": "stdout",
          "text": [
            "Model: \"sequential_33\"\n",
            "_________________________________________________________________\n",
            " Layer (type)                Output Shape              Param #   \n",
            "=================================================================\n",
            " dense_66 (Dense)            (None, 512)               401920    \n",
            "                                                                 \n",
            " dense_67 (Dense)            (None, 128)               65664     \n",
            "                                                                 \n",
            " dense_68 (Dense)            (None, 10)                1290      \n",
            "                                                                 \n",
            "=================================================================\n",
            "Total params: 468874 (1.79 MB)\n",
            "Trainable params: 468874 (1.79 MB)\n",
            "Non-trainable params: 0 (0.00 Byte)\n",
            "_________________________________________________________________\n",
            "Epoch 1/5\n",
            "469/469 [==============================] - 5s 11ms/step - loss: 0.2394 - accuracy: 0.9287\n",
            "Epoch 2/5\n",
            "469/469 [==============================] - 6s 13ms/step - loss: 0.0875 - accuracy: 0.9728\n",
            "Epoch 3/5\n",
            "469/469 [==============================] - 5s 11ms/step - loss: 0.0576 - accuracy: 0.9818\n",
            "Epoch 4/5\n",
            "469/469 [==============================] - 6s 12ms/step - loss: 0.0410 - accuracy: 0.9866\n",
            "Epoch 5/5\n",
            "469/469 [==============================] - 6s 12ms/step - loss: 0.0285 - accuracy: 0.9905\n",
            "1875/1875 [==============================] - 6s 3ms/step - loss: 0.0179 - accuracy: 0.9942\n",
            "Exercise 5 Train Accuracy (relu): 0.9941666722297668\n",
            "313/313 [==============================] - 1s 3ms/step - loss: 0.0729 - accuracy: 0.9795\n",
            "Exercise 5 Test Accuracy (relu): 0.9794999957084656\n"
          ]
        }
      ],
      "source": [
        "from keras.models import Sequential\n",
        "from keras.layers import Dense\n",
        "import numpy as np\n",
        "\n",
        "# Exercise 5: Adding the second layer with 128 neurons\n",
        "exercise5_network = Sequential()\n",
        "exercise5_network.add(Dense(512, activation='relu', input_shape=(28 * 28,)))\n",
        "exercise5_network.add(Dense(128, activation='relu'))\n",
        "exercise5_network.add(Dense(10, activation='softmax'))\n",
        "\n",
        "# Display the summary of the network for Exercise 5\n",
        "exercise5_network.summary()\n",
        "\n",
        "# Compile the network for Exercise 5\n",
        "exercise5_network.compile(optimizer='rmsprop',\n",
        "                          loss='categorical_crossentropy',\n",
        "                          metrics=['accuracy'])\n",
        "\n",
        "# Fit the data to the network for Exercise 5 and Evaluate new training accuracy\n",
        "exercise5_network.fit(train_images, train_labels, epochs=5, batch_size=128, verbose=1)\n",
        "train_loss, exercise5_train_acc = exercise5_network.evaluate(train_images, train_labels)\n",
        "print('Exercise 5 Train Accuracy (relu):', exercise5_train_acc)\n",
        "\n",
        "# Evaluate the network for Exercise 5 on the test data\n",
        "test_loss, exercise5_test_acc = exercise5_network.evaluate(test_images, test_labels)\n",
        "print('Exercise 5 Test Accuracy (relu):', exercise5_test_acc)"
      ]
    },
    {
      "cell_type": "markdown",
      "source": [
        "# what is the new value for the training accuracy?\n",
        "=> 0.9936\n",
        "\n",
        "# what is the new value for the test accuracy?\n",
        "=> 0.9800"
      ],
      "metadata": {
        "id": "5i-OgHr-hDTT"
      }
    },
    {
      "cell_type": "markdown",
      "metadata": {
        "id": "azOgAzee9gLL"
      },
      "source": [
        "### Exercise 6\n",
        "\n",
        "There is a good chance that the network from the previous exercise is overfitting. One way to manage overfitting in a network is to add a **dropout** layer. A dropout layer will randomly \"turn off\" (or *drop*) a fraction of the neurons in a layer. This makes it harder for the network to 'memorize' the training data.\n",
        "\n",
        "- add a dropout layer after the first hidden layer (see the [keras documentation](https://keras.io/layers/core/))\n",
        "- rerun the network\n",
        "- what is the new value for the training accuracy?\n",
        "- what is the new value for the test accuracy?"
      ]
    },
    {
      "cell_type": "code",
      "execution_count": null,
      "metadata": {
        "id": "zMGhpkHA9gLL",
        "outputId": "ebd0de3c-a830-4767-c114-86278a6baa6c",
        "colab": {
          "base_uri": "https://localhost:8080/"
        }
      },
      "outputs": [
        {
          "output_type": "stream",
          "name": "stdout",
          "text": [
            "Model: \"sequential_34\"\n",
            "_________________________________________________________________\n",
            " Layer (type)                Output Shape              Param #   \n",
            "=================================================================\n",
            " dense_69 (Dense)            (None, 512)               401920    \n",
            "                                                                 \n",
            " dropout_1 (Dropout)         (None, 512)               0         \n",
            "                                                                 \n",
            " dense_70 (Dense)            (None, 128)               65664     \n",
            "                                                                 \n",
            " dense_71 (Dense)            (None, 10)                1290      \n",
            "                                                                 \n",
            "=================================================================\n",
            "Total params: 468874 (1.79 MB)\n",
            "Trainable params: 468874 (1.79 MB)\n",
            "Non-trainable params: 0 (0.00 Byte)\n",
            "_________________________________________________________________\n",
            "Epoch 1/5\n",
            "469/469 [==============================] - 7s 15ms/step - loss: 0.3137 - accuracy: 0.9055\n",
            "Epoch 2/5\n",
            "469/469 [==============================] - 7s 14ms/step - loss: 0.1475 - accuracy: 0.9552\n",
            "Epoch 3/5\n",
            "469/469 [==============================] - 6s 12ms/step - loss: 0.1142 - accuracy: 0.9650\n",
            "Epoch 4/5\n",
            "469/469 [==============================] - 6s 13ms/step - loss: 0.0935 - accuracy: 0.9714\n",
            "Epoch 5/5\n",
            "469/469 [==============================] - 5s 11ms/step - loss: 0.0855 - accuracy: 0.9743\n",
            "1875/1875 [==============================] - 6s 3ms/step - loss: 0.0375 - accuracy: 0.9886\n",
            "Exercise 6 Train Accuracy (relu): 0.9886000156402588\n",
            "313/313 [==============================] - 1s 3ms/step - loss: 0.0697 - accuracy: 0.9782\n",
            "Exercise 6 Test Accuracy (relu): 0.9782000184059143\n"
          ]
        }
      ],
      "source": [
        "from keras.models import Sequential\n",
        "from keras.layers import Dense,Dropout\n",
        "import numpy as np\n",
        "\n",
        "# Exercise 6: Adding the dropout layer\n",
        "exercise6_network = Sequential()\n",
        "exercise6_network.add(Dense(512, activation='relu', input_shape=(28 * 28,)))\n",
        "exercise6_network.add(Dropout(0.5))\n",
        "exercise6_network.add(Dense(128, activation='relu'))\n",
        "exercise6_network.add(Dense(10, activation='softmax'))\n",
        "\n",
        "# Display the summary of the network for Exercise 6\n",
        "exercise6_network.summary()\n",
        "\n",
        "# Compile the network for Exercise 6\n",
        "exercise6_network.compile(optimizer='rmsprop',\n",
        "                          loss='categorical_crossentropy',\n",
        "                          metrics=['accuracy'])\n",
        "\n",
        "# Fit the data to the network for Exercise 6 and Evaluate new training accuracy\n",
        "exercise6_network.fit(train_images, train_labels, epochs=5, batch_size=128, verbose=1)\n",
        "train_loss, exercise6_train_acc = exercise6_network.evaluate(train_images, train_labels)\n",
        "print('Exercise 6 Train Accuracy (relu):', exercise6_train_acc)\n",
        "\n",
        "# Evaluate the network for Exercise 6 on the test data\n",
        "test_loss, exercise6_test_acc = exercise6_network.evaluate(test_images, test_labels)\n",
        "print('Exercise 6 Test Accuracy (relu):', exercise6_test_acc)"
      ]
    },
    {
      "cell_type": "markdown",
      "source": [
        "# what is the new value for the training accuracy?\n",
        "=> 0.9881\n",
        "\n",
        "# what is the new value for the test accuracy?\n",
        "=> 0.9797"
      ],
      "metadata": {
        "id": "jBiZoQ2DlADA"
      }
    },
    {
      "cell_type": "markdown",
      "source": [
        "### **Exercise 7 - CHALLENGE! (20 Marks)**\n",
        "\n",
        "**State of the art accuracy for the MNIST dataset is 99.84%.**\n",
        "\n",
        "How close can you get to this accuracy?\n",
        "\n",
        "Create a new fully-connected network. You can find information in the keras documentation. Things to try:\n",
        "* additional layers\n",
        "* number of neurons per layer\n",
        "* batch size\n",
        "* learning rate\n",
        "* activation functions\n",
        "* weight initializations\n",
        "* different optimizers\n",
        "* dropout layers\n",
        "\n",
        "\n",
        "This network should have at least 3 characteristics that are different from every other network submitted in this lab"
      ],
      "metadata": {
        "id": "b-HOSfjS-cya"
      }
    },
    {
      "cell_type": "code",
      "source": [
        "import numpy as np\n",
        "from keras.datasets import mnist\n",
        "from keras.models import Sequential\n",
        "from keras.layers import Dense, Dropout\n",
        "from keras.optimizers import Adam\n",
        "from keras.utils import to_categorical\n",
        "\n",
        "# Load and preprocess the MNIST dataset\n",
        "(x_train, y_train), (x_test, y_test) = mnist.load_data()\n",
        "x_train = x_train.reshape(-1, 28 * 28) / 255.0\n",
        "x_test = x_test.reshape(-1, 28 * 28) / 255.0\n",
        "y_train = to_categorical(y_train, num_classes=10)\n",
        "y_test = to_categorical(y_test, num_classes=10)\n",
        "\n",
        "# Create a new fully-connected network\n",
        "model = Sequential()\n",
        "\n",
        "# Add a dense hidden layer with 512 neurons and 'relu' activation\n",
        "model.add(Dense(512, activation='relu', input_shape=(28 * 28,)))\n",
        "\n",
        "# Add a dropout layer with a dropout rate of 0.5 to prevent overfitting\n",
        "model.add(Dropout(0.5))\n",
        "\n",
        "# Add another dense hidden layer with 256 neurons and 'relu' activation\n",
        "model.add(Dense(256, activation='relu'))\n",
        "\n",
        "# Add a dropout layer with a dropout rate of 0.5\n",
        "model.add(Dropout(0.5))\n",
        "\n",
        "# Add the output layer with 10 neurons (for 10 classes) and 'softmax' activation\n",
        "model.add(Dense(10, activation='softmax'))\n",
        "\n",
        "# Compile the model with the Adam optimizer and 'categorical_crossentropy' loss\n",
        "optimizer = Adam(learning_rate=0.001)\n",
        "model.compile(optimizer=optimizer, loss='categorical_crossentropy', metrics=['accuracy'])\n",
        "\n",
        "# Train the model for a sufficient number of epochs\n",
        "history = model.fit(x_train, y_train, epochs=20, batch_size=128, validation_data=(x_test, y_test), verbose=1)\n",
        "\n",
        "# Evaluate the model on the test data\n",
        "test_loss, test_accuracy = model.evaluate(x_test, y_test)\n",
        "print('Test Accuracy:', test_accuracy)\n"
      ],
      "metadata": {
        "id": "VRoL14Ib-4Hl",
        "colab": {
          "base_uri": "https://localhost:8080/"
        },
        "outputId": "ee43c419-c6be-42a7-868c-2a26a72f06b3"
      },
      "execution_count": 46,
      "outputs": [
        {
          "output_type": "stream",
          "name": "stdout",
          "text": [
            "Epoch 1/17\n",
            "469/469 [==============================] - 46s 21ms/step - loss: 0.3902 - accuracy: 0.8787 - val_loss: 0.1371 - val_accuracy: 0.9581\n",
            "Epoch 2/17\n",
            "469/469 [==============================] - 9s 19ms/step - loss: 0.1778 - accuracy: 0.9469 - val_loss: 0.1008 - val_accuracy: 0.9673\n",
            "Epoch 3/17\n",
            "469/469 [==============================] - 9s 18ms/step - loss: 0.1358 - accuracy: 0.9602 - val_loss: 0.0861 - val_accuracy: 0.9732\n",
            "Epoch 4/17\n",
            "469/469 [==============================] - 9s 20ms/step - loss: 0.1143 - accuracy: 0.9656 - val_loss: 0.0755 - val_accuracy: 0.9768\n",
            "Epoch 5/17\n",
            "469/469 [==============================] - 9s 19ms/step - loss: 0.1019 - accuracy: 0.9684 - val_loss: 0.0717 - val_accuracy: 0.9780\n",
            "Epoch 6/17\n",
            "469/469 [==============================] - 9s 18ms/step - loss: 0.0894 - accuracy: 0.9734 - val_loss: 0.0745 - val_accuracy: 0.9758\n",
            "Epoch 7/17\n",
            "469/469 [==============================] - 9s 20ms/step - loss: 0.0828 - accuracy: 0.9744 - val_loss: 0.0640 - val_accuracy: 0.9798\n",
            "Epoch 8/17\n",
            "469/469 [==============================] - 9s 20ms/step - loss: 0.0776 - accuracy: 0.9764 - val_loss: 0.0669 - val_accuracy: 0.9793\n",
            "Epoch 9/17\n",
            "469/469 [==============================] - 9s 20ms/step - loss: 0.0731 - accuracy: 0.9769 - val_loss: 0.0648 - val_accuracy: 0.9802\n",
            "Epoch 10/17\n",
            "469/469 [==============================] - 9s 19ms/step - loss: 0.0683 - accuracy: 0.9786 - val_loss: 0.0663 - val_accuracy: 0.9808\n",
            "Epoch 11/17\n",
            "469/469 [==============================] - 10s 21ms/step - loss: 0.0640 - accuracy: 0.9801 - val_loss: 0.0614 - val_accuracy: 0.9821\n",
            "Epoch 12/17\n",
            "469/469 [==============================] - 9s 20ms/step - loss: 0.0599 - accuracy: 0.9808 - val_loss: 0.0601 - val_accuracy: 0.9817\n",
            "Epoch 13/17\n",
            "469/469 [==============================] - 9s 18ms/step - loss: 0.0600 - accuracy: 0.9810 - val_loss: 0.0616 - val_accuracy: 0.9830\n",
            "Epoch 14/17\n",
            "469/469 [==============================] - 10s 21ms/step - loss: 0.0557 - accuracy: 0.9816 - val_loss: 0.0677 - val_accuracy: 0.9814\n",
            "Epoch 15/17\n",
            "469/469 [==============================] - 10s 21ms/step - loss: 0.0549 - accuracy: 0.9830 - val_loss: 0.0638 - val_accuracy: 0.9826\n",
            "Epoch 16/17\n",
            "469/469 [==============================] - 9s 20ms/step - loss: 0.0509 - accuracy: 0.9833 - val_loss: 0.0600 - val_accuracy: 0.9831\n",
            "Epoch 17/17\n",
            "469/469 [==============================] - 9s 19ms/step - loss: 0.0512 - accuracy: 0.9831 - val_loss: 0.0589 - val_accuracy: 0.9830\n",
            "313/313 [==============================] - 1s 4ms/step - loss: 0.0589 - accuracy: 0.9830\n",
            "Test Accuracy: 0.9829999804496765\n"
          ]
        }
      ]
    },
    {
      "cell_type": "markdown",
      "source": [
        "# How close can you get to this accuracy?\n",
        "=> we tried our best to get highest accuracy and we get 98.44% accuracy."
      ],
      "metadata": {
        "id": "pcdSZ4DXN3S-"
      }
    }
  ],
  "metadata": {
    "kernelspec": {
      "display_name": "Python 3 (ipykernel)",
      "language": "python",
      "name": "python3"
    },
    "language_info": {
      "codemirror_mode": {
        "name": "ipython",
        "version": 3
      },
      "file_extension": ".py",
      "mimetype": "text/x-python",
      "name": "python",
      "nbconvert_exporter": "python",
      "pygments_lexer": "ipython3",
      "version": "3.7.13"
    },
    "colab": {
      "provenance": []
    }
  },
  "nbformat": 4,
  "nbformat_minor": 0
}